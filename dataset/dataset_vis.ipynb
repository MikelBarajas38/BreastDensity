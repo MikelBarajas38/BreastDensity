{
 "cells": [
  {
   "cell_type": "markdown",
   "metadata": {},
   "source": [
    "# Dataset Visualization\n",
    "\n",
    "Classes and stuff"
   ]
  },
  {
   "cell_type": "code",
   "execution_count": 52,
   "metadata": {},
   "outputs": [],
   "source": [
    "import pandas as pd\n",
    "import numpy as np\n",
    "import matplotlib.pyplot as plt"
   ]
  },
  {
   "cell_type": "code",
   "execution_count": 53,
   "metadata": {},
   "outputs": [],
   "source": [
    "annotations_path = 'density_info.csv'"
   ]
  },
  {
   "cell_type": "code",
   "execution_count": 54,
   "metadata": {},
   "outputs": [],
   "source": [
    "annotations_df = pd.read_csv(annotations_path)"
   ]
  },
  {
   "cell_type": "code",
   "execution_count": 55,
   "metadata": {},
   "outputs": [
    {
     "data": {
      "text/html": [
       "<div>\n",
       "<style scoped>\n",
       "    .dataframe tbody tr th:only-of-type {\n",
       "        vertical-align: middle;\n",
       "    }\n",
       "\n",
       "    .dataframe tbody tr th {\n",
       "        vertical-align: top;\n",
       "    }\n",
       "\n",
       "    .dataframe thead th {\n",
       "        text-align: right;\n",
       "    }\n",
       "</style>\n",
       "<table border=\"1\" class=\"dataframe\">\n",
       "  <thead>\n",
       "    <tr style=\"text-align: right;\">\n",
       "      <th></th>\n",
       "      <th>id</th>\n",
       "      <th>file_path</th>\n",
       "      <th>image_path</th>\n",
       "      <th>SeriesDescription</th>\n",
       "      <th>patient_id</th>\n",
       "      <th>image view</th>\n",
       "      <th>breast density</th>\n",
       "    </tr>\n",
       "  </thead>\n",
       "  <tbody>\n",
       "    <tr>\n",
       "      <th>0</th>\n",
       "      <td>0</td>\n",
       "      <td>1.3.6.1.4.1.9590.100.1.2.239949064412092068706...</td>\n",
       "      <td>CBIS-DDSM/jpeg/1.3.6.1.4.1.9590.100.1.2.239949...</td>\n",
       "      <td>full mammogram images</td>\n",
       "      <td>P_00017</td>\n",
       "      <td>MLO</td>\n",
       "      <td>2</td>\n",
       "    </tr>\n",
       "    <tr>\n",
       "      <th>1</th>\n",
       "      <td>1</td>\n",
       "      <td>1.3.6.1.4.1.9590.100.1.2.397840223011442643919...</td>\n",
       "      <td>CBIS-DDSM/jpeg/1.3.6.1.4.1.9590.100.1.2.397840...</td>\n",
       "      <td>full mammogram images</td>\n",
       "      <td>P_00238</td>\n",
       "      <td>CC</td>\n",
       "      <td>3</td>\n",
       "    </tr>\n",
       "    <tr>\n",
       "      <th>2</th>\n",
       "      <td>2</td>\n",
       "      <td>1.3.6.1.4.1.9590.100.1.2.204033481911004862841...</td>\n",
       "      <td>CBIS-DDSM/jpeg/1.3.6.1.4.1.9590.100.1.2.204033...</td>\n",
       "      <td>full mammogram images</td>\n",
       "      <td>P_00699</td>\n",
       "      <td>CC</td>\n",
       "      <td>3</td>\n",
       "    </tr>\n",
       "    <tr>\n",
       "      <th>3</th>\n",
       "      <td>3</td>\n",
       "      <td>1.3.6.1.4.1.9590.100.1.2.179488205110519665924...</td>\n",
       "      <td>CBIS-DDSM/jpeg/1.3.6.1.4.1.9590.100.1.2.179488...</td>\n",
       "      <td>full mammogram images</td>\n",
       "      <td>P_01617</td>\n",
       "      <td>CC</td>\n",
       "      <td>2</td>\n",
       "    </tr>\n",
       "    <tr>\n",
       "      <th>4</th>\n",
       "      <td>4</td>\n",
       "      <td>1.3.6.1.4.1.9590.100.1.2.151178406511629586605...</td>\n",
       "      <td>CBIS-DDSM/jpeg/1.3.6.1.4.1.9590.100.1.2.151178...</td>\n",
       "      <td>full mammogram images</td>\n",
       "      <td>P_00464</td>\n",
       "      <td>MLO</td>\n",
       "      <td>3</td>\n",
       "    </tr>\n",
       "    <tr>\n",
       "      <th>...</th>\n",
       "      <td>...</td>\n",
       "      <td>...</td>\n",
       "      <td>...</td>\n",
       "      <td>...</td>\n",
       "      <td>...</td>\n",
       "      <td>...</td>\n",
       "      <td>...</td>\n",
       "    </tr>\n",
       "    <tr>\n",
       "      <th>3281</th>\n",
       "      <td>3281</td>\n",
       "      <td>1.3.6.1.4.1.9590.100.1.2.206174998211439771426...</td>\n",
       "      <td>CBIS-DDSM/jpeg/1.3.6.1.4.1.9590.100.1.2.206174...</td>\n",
       "      <td>full mammogram images</td>\n",
       "      <td>P_00322</td>\n",
       "      <td>MLO</td>\n",
       "      <td>2</td>\n",
       "    </tr>\n",
       "    <tr>\n",
       "      <th>3282</th>\n",
       "      <td>3282</td>\n",
       "      <td>1.3.6.1.4.1.9590.100.1.2.211427675111583558805...</td>\n",
       "      <td>CBIS-DDSM/jpeg/1.3.6.1.4.1.9590.100.1.2.211427...</td>\n",
       "      <td>full mammogram images</td>\n",
       "      <td>P_00019</td>\n",
       "      <td>MLO</td>\n",
       "      <td>4</td>\n",
       "    </tr>\n",
       "    <tr>\n",
       "      <th>3283</th>\n",
       "      <td>3283</td>\n",
       "      <td>1.3.6.1.4.1.9590.100.1.2.529156274123405251229...</td>\n",
       "      <td>CBIS-DDSM/jpeg/1.3.6.1.4.1.9590.100.1.2.529156...</td>\n",
       "      <td>full mammogram images</td>\n",
       "      <td>P_01040</td>\n",
       "      <td>CC</td>\n",
       "      <td>3</td>\n",
       "    </tr>\n",
       "    <tr>\n",
       "      <th>3284</th>\n",
       "      <td>3284</td>\n",
       "      <td>1.3.6.1.4.1.9590.100.1.2.744141121110160190397...</td>\n",
       "      <td>CBIS-DDSM/jpeg/1.3.6.1.4.1.9590.100.1.2.744141...</td>\n",
       "      <td>full mammogram images</td>\n",
       "      <td>P_01462</td>\n",
       "      <td>CC</td>\n",
       "      <td>2</td>\n",
       "    </tr>\n",
       "    <tr>\n",
       "      <th>3285</th>\n",
       "      <td>3285</td>\n",
       "      <td>1.3.6.1.4.1.9590.100.1.2.273069912411350419938...</td>\n",
       "      <td>CBIS-DDSM/jpeg/1.3.6.1.4.1.9590.100.1.2.273069...</td>\n",
       "      <td>full mammogram images</td>\n",
       "      <td>P_00523</td>\n",
       "      <td>CC</td>\n",
       "      <td>2</td>\n",
       "    </tr>\n",
       "  </tbody>\n",
       "</table>\n",
       "<p>3286 rows × 7 columns</p>\n",
       "</div>"
      ],
      "text/plain": [
       "        id                                          file_path  \\\n",
       "0        0  1.3.6.1.4.1.9590.100.1.2.239949064412092068706...   \n",
       "1        1  1.3.6.1.4.1.9590.100.1.2.397840223011442643919...   \n",
       "2        2  1.3.6.1.4.1.9590.100.1.2.204033481911004862841...   \n",
       "3        3  1.3.6.1.4.1.9590.100.1.2.179488205110519665924...   \n",
       "4        4  1.3.6.1.4.1.9590.100.1.2.151178406511629586605...   \n",
       "...    ...                                                ...   \n",
       "3281  3281  1.3.6.1.4.1.9590.100.1.2.206174998211439771426...   \n",
       "3282  3282  1.3.6.1.4.1.9590.100.1.2.211427675111583558805...   \n",
       "3283  3283  1.3.6.1.4.1.9590.100.1.2.529156274123405251229...   \n",
       "3284  3284  1.3.6.1.4.1.9590.100.1.2.744141121110160190397...   \n",
       "3285  3285  1.3.6.1.4.1.9590.100.1.2.273069912411350419938...   \n",
       "\n",
       "                                             image_path  \\\n",
       "0     CBIS-DDSM/jpeg/1.3.6.1.4.1.9590.100.1.2.239949...   \n",
       "1     CBIS-DDSM/jpeg/1.3.6.1.4.1.9590.100.1.2.397840...   \n",
       "2     CBIS-DDSM/jpeg/1.3.6.1.4.1.9590.100.1.2.204033...   \n",
       "3     CBIS-DDSM/jpeg/1.3.6.1.4.1.9590.100.1.2.179488...   \n",
       "4     CBIS-DDSM/jpeg/1.3.6.1.4.1.9590.100.1.2.151178...   \n",
       "...                                                 ...   \n",
       "3281  CBIS-DDSM/jpeg/1.3.6.1.4.1.9590.100.1.2.206174...   \n",
       "3282  CBIS-DDSM/jpeg/1.3.6.1.4.1.9590.100.1.2.211427...   \n",
       "3283  CBIS-DDSM/jpeg/1.3.6.1.4.1.9590.100.1.2.529156...   \n",
       "3284  CBIS-DDSM/jpeg/1.3.6.1.4.1.9590.100.1.2.744141...   \n",
       "3285  CBIS-DDSM/jpeg/1.3.6.1.4.1.9590.100.1.2.273069...   \n",
       "\n",
       "          SeriesDescription patient_id image view  breast density  \n",
       "0     full mammogram images    P_00017        MLO               2  \n",
       "1     full mammogram images    P_00238         CC               3  \n",
       "2     full mammogram images    P_00699         CC               3  \n",
       "3     full mammogram images    P_01617         CC               2  \n",
       "4     full mammogram images    P_00464        MLO               3  \n",
       "...                     ...        ...        ...             ...  \n",
       "3281  full mammogram images    P_00322        MLO               2  \n",
       "3282  full mammogram images    P_00019        MLO               4  \n",
       "3283  full mammogram images    P_01040         CC               3  \n",
       "3284  full mammogram images    P_01462         CC               2  \n",
       "3285  full mammogram images    P_00523         CC               2  \n",
       "\n",
       "[3286 rows x 7 columns]"
      ]
     },
     "execution_count": 55,
     "metadata": {},
     "output_type": "execute_result"
    }
   ],
   "source": [
    "annotations_df"
   ]
  },
  {
   "cell_type": "code",
   "execution_count": 56,
   "metadata": {},
   "outputs": [
    {
     "data": {
      "image/png": "[encoded data removed]",
      "text/plain": [
       "<Figure size 640x480 with 1 Axes>"
      ]
     },
     "metadata": {},
     "output_type": "display_data"
    }
   ],
   "source": [
    "annotations_df['breast density'].value_counts().sort_index().plot(kind='bar')\n",
    "\n",
    "plt.title('Density histogram')\n",
    "plt.xlabel('Density')\n",
    "plt.ylabel('Frequency')\n",
    "\n",
    "plt.show()"
   ]
  },
  {
   "cell_type": "code",
   "execution_count": 57,
   "metadata": {},
   "outputs": [],
   "source": [
    "# combine classes 2 and 3\n",
    "\n",
    "annotations_df['breast density'] = annotations_df['breast density'].replace(3, 2)"
   ]
  },
  {
   "cell_type": "code",
   "execution_count": 58,
   "metadata": {},
   "outputs": [
    {
     "data": {
      "image/png": "[encoded data removed]",
      "text/plain": [
       "<Figure size 640x480 with 1 Axes>"
      ]
     },
     "metadata": {},
     "output_type": "display_data"
    }
   ],
   "source": [
    "annotations_df['breast density'].value_counts().sort_index().plot(kind='bar')\n",
    "\n",
    "plt.title('Density histogram')\n",
    "plt.xlabel('Density')\n",
    "plt.ylabel('Frequency')\n",
    "\n",
    "plt.show()"
   ]
  },
  {
   "cell_type": "code",
   "execution_count": 59,
   "metadata": {},
   "outputs": [
    {
     "name": "stdout",
     "output_type": "stream",
     "text": [
      "Dataframes are equal\n"
     ]
    }
   ],
   "source": [
    "# undersample class 2\n",
    "\n",
    "n = 1600\n",
    "\n",
    "annotations_df = annotations_df.drop(annotations_df[annotations_df['breast density'] == 2].sample(n=n, random_state=1).index)"
   ]
  },
  {
   "cell_type": "code",
   "execution_count": 60,
   "metadata": {},
   "outputs": [
    {
     "data": {
      "image/png": "[encoded data removed]",
      "text/plain": [
       "<Figure size 640x480 with 1 Axes>"
      ]
     },
     "metadata": {},
     "output_type": "display_data"
    }
   ],
   "source": [
    "annotations_df['breast density'].value_counts().sort_index().plot(kind='bar')\n",
    "\n",
    "plt.title('Density histogram')\n",
    "plt.xlabel('Density')\n",
    "plt.ylabel('Frequency')\n",
    "\n",
    "plt.show()"
   ]
  }
 ],
 "metadata": {
  "kernelspec": {
   "display_name": "env",
   "language": "python",
   "name": "python3"
  },
  "language_info": {
   "codemirror_mode": {
    "name": "ipython",
    "version": 3
   },
   "file_extension": ".py",
   "mimetype": "text/x-python",
   "name": "python",
   "nbconvert_exporter": "python",
   "pygments_lexer": "ipython3",
   "version": "3.12.3"
  }
 },
 "nbformat": 4,
 "nbformat_minor": 2
}
